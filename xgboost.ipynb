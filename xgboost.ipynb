{
 "cells": [
  {
   "cell_type": "markdown",
   "metadata": {},
   "source": [
    "## Import modules"
   ]
  },
  {
   "cell_type": "code",
   "execution_count": 70,
   "metadata": {},
   "outputs": [
    {
     "name": "stdout",
     "output_type": "stream",
     "text": [
      "Exception reporting mode: Verbose\n"
     ]
    }
   ],
   "source": [
    "import time\n",
    "import warnings\n",
    "warnings.filterwarnings('ignore')\n",
    "\n",
    "import numpy as np\n",
    "import pandas as pd\n",
    "\n",
    "import seaborn\n",
    "import matplotlib.pyplot as plt\n",
    "\n",
    "import xgboost as xgb\n",
    "from xgboost import XGBClassifier # this is an sklearn wrapper for XGBoost. This allows us to use sklearn’s Grid Search with parallel processing in the same way we did for GBM\n",
    "from sklearn import cross_validation, metrics\n",
    "from sklearn.cross_validation import train_test_split\n",
    "\n",
    "import lime\n",
    "\n",
    "%xmode Verbose\n",
    "%matplotlib inline"
   ]
  },
  {
   "cell_type": "markdown",
   "metadata": {},
   "source": [
    "## Import dataset"
   ]
  },
  {
   "cell_type": "code",
   "execution_count": 71,
   "metadata": {},
   "outputs": [
    {
     "data": {
      "text/html": [
       "<div>\n",
       "<style scoped>\n",
       "    .dataframe tbody tr th:only-of-type {\n",
       "        vertical-align: middle;\n",
       "    }\n",
       "\n",
       "    .dataframe tbody tr th {\n",
       "        vertical-align: top;\n",
       "    }\n",
       "\n",
       "    .dataframe thead th {\n",
       "        text-align: right;\n",
       "    }\n",
       "</style>\n",
       "<table border=\"1\" class=\"dataframe\">\n",
       "  <thead>\n",
       "    <tr style=\"text-align: right;\">\n",
       "      <th></th>\n",
       "      <th>id_pres</th>\n",
       "      <th>Badness30D</th>\n",
       "      <th>Prior_delinquency</th>\n",
       "      <th>L0_Score</th>\n",
       "      <th>L0_Extensions</th>\n",
       "      <th>Equifax_L1</th>\n",
       "      <th>Equifax_L0</th>\n",
       "      <th>Equifax_Diff</th>\n",
       "      <th>FirstL1_Time_Density</th>\n",
       "      <th>L1_Cais</th>\n",
       "      <th>...</th>\n",
       "      <th>Repayment_to_limit</th>\n",
       "      <th>Credit_Utilization</th>\n",
       "      <th>PriorL1_declines</th>\n",
       "      <th>L0_Interest_Paid</th>\n",
       "      <th>L0_cuota_pres</th>\n",
       "      <th>L0_cuota_pres_original</th>\n",
       "      <th>total_amount</th>\n",
       "      <th>slider_days_modified</th>\n",
       "      <th>slider_amount_modified</th>\n",
       "      <th>credit_limit</th>\n",
       "    </tr>\n",
       "  </thead>\n",
       "  <tbody>\n",
       "    <tr>\n",
       "      <th>0</th>\n",
       "      <td>996867</td>\n",
       "      <td>1</td>\n",
       "      <td>-11</td>\n",
       "      <td>0.321284</td>\n",
       "      <td>0</td>\n",
       "      <td>4</td>\n",
       "      <td>4</td>\n",
       "      <td>0.0</td>\n",
       "      <td>0</td>\n",
       "      <td>0.0</td>\n",
       "      <td>...</td>\n",
       "      <td>0.987133</td>\n",
       "      <td>0.666667</td>\n",
       "      <td>4</td>\n",
       "      <td>1.0</td>\n",
       "      <td>5.0</td>\n",
       "      <td>5.0</td>\n",
       "      <td>296.14</td>\n",
       "      <td>1</td>\n",
       "      <td>1</td>\n",
       "      <td>300</td>\n",
       "    </tr>\n",
       "    <tr>\n",
       "      <th>1</th>\n",
       "      <td>1000948</td>\n",
       "      <td>0</td>\n",
       "      <td>-8</td>\n",
       "      <td>0.236901</td>\n",
       "      <td>0</td>\n",
       "      <td>4</td>\n",
       "      <td>4</td>\n",
       "      <td>0.0</td>\n",
       "      <td>14</td>\n",
       "      <td>0.0</td>\n",
       "      <td>...</td>\n",
       "      <td>0.979000</td>\n",
       "      <td>0.666667</td>\n",
       "      <td>2</td>\n",
       "      <td>1.0</td>\n",
       "      <td>5.0</td>\n",
       "      <td>5.0</td>\n",
       "      <td>293.70</td>\n",
       "      <td>1</td>\n",
       "      <td>1</td>\n",
       "      <td>300</td>\n",
       "    </tr>\n",
       "    <tr>\n",
       "      <th>2</th>\n",
       "      <td>1002036</td>\n",
       "      <td>0</td>\n",
       "      <td>-3</td>\n",
       "      <td>0.331810</td>\n",
       "      <td>0</td>\n",
       "      <td>4</td>\n",
       "      <td>4</td>\n",
       "      <td>0.0</td>\n",
       "      <td>29</td>\n",
       "      <td>0.0</td>\n",
       "      <td>...</td>\n",
       "      <td>1.431700</td>\n",
       "      <td>1.000000</td>\n",
       "      <td>1</td>\n",
       "      <td>1.0</td>\n",
       "      <td>5.0</td>\n",
       "      <td>5.0</td>\n",
       "      <td>429.51</td>\n",
       "      <td>1</td>\n",
       "      <td>1</td>\n",
       "      <td>300</td>\n",
       "    </tr>\n",
       "  </tbody>\n",
       "</table>\n",
       "<p>3 rows × 23 columns</p>\n",
       "</div>"
      ],
      "text/plain": [
       "   id_pres  Badness30D  Prior_delinquency  L0_Score  L0_Extensions  \\\n",
       "0   996867           1                -11  0.321284              0   \n",
       "1  1000948           0                 -8  0.236901              0   \n",
       "2  1002036           0                 -3  0.331810              0   \n",
       "\n",
       "   Equifax_L1  Equifax_L0  Equifax_Diff  FirstL1_Time_Density  L1_Cais  \\\n",
       "0           4           4           0.0                     0      0.0   \n",
       "1           4           4           0.0                    14      0.0   \n",
       "2           4           4           0.0                    29      0.0   \n",
       "\n",
       "       ...       Repayment_to_limit  Credit_Utilization  PriorL1_declines  \\\n",
       "0      ...                 0.987133            0.666667                 4   \n",
       "1      ...                 0.979000            0.666667                 2   \n",
       "2      ...                 1.431700            1.000000                 1   \n",
       "\n",
       "   L0_Interest_Paid  L0_cuota_pres  L0_cuota_pres_original  total_amount  \\\n",
       "0               1.0            5.0                     5.0        296.14   \n",
       "1               1.0            5.0                     5.0        293.70   \n",
       "2               1.0            5.0                     5.0        429.51   \n",
       "\n",
       "   slider_days_modified  slider_amount_modified  credit_limit  \n",
       "0                     1                       1           300  \n",
       "1                     1                       1           300  \n",
       "2                     1                       1           300  \n",
       "\n",
       "[3 rows x 23 columns]"
      ]
     },
     "execution_count": 71,
     "metadata": {},
     "output_type": "execute_result"
    }
   ],
   "source": [
    "filename='./data/20180319_L1 Simple  Dataset_v2.csv'\n",
    "df=pd.read_csv(train_filename,header=0,delimiter=\";\",decimal=\",\" ,low_memory=False)\n",
    "df.head(3)"
   ]
  },
  {
   "cell_type": "markdown",
   "metadata": {},
   "source": [
    "## Set target and features"
   ]
  },
  {
   "cell_type": "code",
   "execution_count": 72,
   "metadata": {},
   "outputs": [
    {
     "data": {
      "text/plain": [
       "['Prior_delinquency',\n",
       " 'L0_Score',\n",
       " 'L0_Extensions',\n",
       " 'Equifax_L1',\n",
       " 'Equifax_L0',\n",
       " 'Equifax_Diff',\n",
       " 'FirstL1_Time_Density',\n",
       " 'L1_Cais',\n",
       " 'L0_Cais',\n",
       " 'Cais_Diff',\n",
       " 'CurrentL1_Time_Density',\n",
       " 'Repayment_to_limit',\n",
       " 'Credit_Utilization',\n",
       " 'PriorL1_declines',\n",
       " 'L0_Interest_Paid',\n",
       " 'L0_cuota_pres',\n",
       " 'L0_cuota_pres_original',\n",
       " 'total_amount',\n",
       " 'slider_days_modified',\n",
       " 'slider_amount_modified',\n",
       " 'credit_limit']"
      ]
     },
     "execution_count": 72,
     "metadata": {},
     "output_type": "execute_result"
    }
   ],
   "source": [
    "col_id              = 'id_pres'\n",
    "col_target          = 'Badness30D'\n",
    "col_features = [x for x in df.columns if x not in [col_id,col_target]]\n",
    "col_features"
   ]
  },
  {
   "cell_type": "markdown",
   "metadata": {},
   "source": [
    "## Split target and features"
   ]
  },
  {
   "cell_type": "code",
   "execution_count": 73,
   "metadata": {
    "scrolled": true
   },
   "outputs": [
    {
     "name": "stdout",
     "output_type": "stream",
     "text": [
      "(2417,)\n",
      "0    1\n",
      "1    0\n",
      "2    0\n",
      "Name: Badness30D, dtype: int64\n",
      "(2417, 21)\n",
      "   Prior_delinquency  L0_Score  L0_Extensions  Equifax_L1  Equifax_L0  \\\n",
      "0                -11  0.321284              0           4           4   \n",
      "1                 -8  0.236901              0           4           4   \n",
      "2                 -3  0.331810              0           4           4   \n",
      "\n",
      "   Equifax_Diff  FirstL1_Time_Density  L1_Cais  L0_Cais  Cais_Diff  \\\n",
      "0           0.0                     0      0.0      0.0        0.0   \n",
      "1           0.0                    14      0.0      0.0        0.0   \n",
      "2           0.0                    29      0.0      0.0        0.0   \n",
      "\n",
      "       ...       Repayment_to_limit  Credit_Utilization  PriorL1_declines  \\\n",
      "0      ...                 0.987133            0.666667                 4   \n",
      "1      ...                 0.979000            0.666667                 2   \n",
      "2      ...                 1.431700            1.000000                 1   \n",
      "\n",
      "   L0_Interest_Paid  L0_cuota_pres  L0_cuota_pres_original  total_amount  \\\n",
      "0               1.0            5.0                     5.0        296.14   \n",
      "1               1.0            5.0                     5.0        293.70   \n",
      "2               1.0            5.0                     5.0        429.51   \n",
      "\n",
      "   slider_days_modified  slider_amount_modified  credit_limit  \n",
      "0                     1                       1           300  \n",
      "1                     1                       1           300  \n",
      "2                     1                       1           300  \n",
      "\n",
      "[3 rows x 21 columns]\n"
     ]
    }
   ],
   "source": [
    "Y = df[col_target]\n",
    "X = df[col_features]\n",
    "Y.astype('int32')\n",
    "print(Y.shape)\n",
    "print(Y.head(3))\n",
    "print(X.shape)\n",
    "print(X.head(3))"
   ]
  },
  {
   "cell_type": "markdown",
   "metadata": {},
   "source": [
    "## Split training set and test set"
   ]
  },
  {
   "cell_type": "code",
   "execution_count": 74,
   "metadata": {},
   "outputs": [
    {
     "name": "stdout",
     "output_type": "stream",
     "text": [
      "(1933, 21)\n",
      "     Prior_delinquency  L0_Score  L0_Extensions  Equifax_L1  Equifax_L0  \\\n",
      "347                  1  0.254186              0           3           3   \n",
      "882                -13  0.249980              0           3           1   \n",
      "470                 -3  0.436098              0           6           5   \n",
      "\n",
      "     Equifax_Diff  FirstL1_Time_Density  L1_Cais  L0_Cais  Cais_Diff  \\\n",
      "347           0.0                     1      0.0      0.0        0.0   \n",
      "882          -2.0                     7      0.0      0.0        0.0   \n",
      "470          -1.0                     0      1.0      1.0        0.0   \n",
      "\n",
      "         ...       Repayment_to_limit  Credit_Utilization  PriorL1_declines  \\\n",
      "347      ...                 1.018000            0.866667                 3   \n",
      "882      ...                 1.138222            0.833333                 1   \n",
      "470      ...                 0.767867            0.600000                 4   \n",
      "\n",
      "     L0_Interest_Paid  L0_cuota_pres  L0_cuota_pres_original  total_amount  \\\n",
      "347               1.0            5.0                     5.0        305.40   \n",
      "882               1.0            5.0                     5.0        409.76   \n",
      "470               1.0            5.0                     5.0        230.36   \n",
      "\n",
      "     slider_days_modified  slider_amount_modified  credit_limit  \n",
      "347                     1                       1           300  \n",
      "882                     1                       1           360  \n",
      "470                     1                       1           300  \n",
      "\n",
      "[3 rows x 21 columns]\n",
      "(484, 21)\n",
      "      Prior_delinquency  L0_Score  L0_Extensions  Equifax_L1  Equifax_L0  \\\n",
      "1509                 -1  0.293330              0           2           2   \n",
      "1870                -27  0.183708              0           4           4   \n",
      "1491                 -2  0.120704              0           3           3   \n",
      "\n",
      "      Equifax_Diff  FirstL1_Time_Density  L1_Cais  L0_Cais  Cais_Diff  \\\n",
      "1509           0.0                     5      0.0      0.0        0.0   \n",
      "1870           0.0                    16      0.0      0.0        0.0   \n",
      "1491           0.0                     9      0.0      0.0        0.0   \n",
      "\n",
      "          ...       Repayment_to_limit  Credit_Utilization  PriorL1_declines  \\\n",
      "1509      ...                  0.58820              0.5000                 1   \n",
      "1870      ...                  0.89700              0.7500                 1   \n",
      "1491      ...                  1.05625              0.8725                 2   \n",
      "\n",
      "      L0_Interest_Paid  L0_cuota_pres  L0_cuota_pres_original  total_amount  \\\n",
      "1509               0.0            0.0                    0.00        235.28   \n",
      "1870               0.0            0.0                   74.25        269.10   \n",
      "1491               1.0            5.0                    5.00        422.50   \n",
      "\n",
      "      slider_days_modified  slider_amount_modified  credit_limit  \n",
      "1509                     1                       1           400  \n",
      "1870                     0                       1           300  \n",
      "1491                     1                       0           400  \n",
      "\n",
      "[3 rows x 21 columns]\n"
     ]
    }
   ],
   "source": [
    "from sklearn.model_selection import train_test_split\n",
    "X_train, X_test, Y_train, Y_test = train_test_split(X, Y, test_size = 0.2,shuffle=True)\n",
    "print(X_train.shape)\n",
    "print(X_train.head(3))\n",
    "print(X_test.shape)\n",
    "print(X_test.head(3))"
   ]
  },
  {
   "cell_type": "code",
   "execution_count": 75,
   "metadata": {},
   "outputs": [],
   "source": [
    "start_time = time.time()"
   ]
  },
  {
   "cell_type": "markdown",
   "metadata": {},
   "source": [
    "## Preprocessing features"
   ]
  },
  {
   "cell_type": "code",
   "execution_count": null,
   "metadata": {},
   "outputs": [],
   "source": []
  },
  {
   "cell_type": "markdown",
   "metadata": {},
   "source": [
    "## XGBOOST"
   ]
  },
  {
   "cell_type": "code",
   "execution_count": 76,
   "metadata": {},
   "outputs": [],
   "source": [
    "# declare classifier wrapper\n",
    "clf = XGBClassifier(\n",
    "    booster = 'gbtree',\n",
    "    learning_rate =0.01,\n",
    "    n_estimators=3000,\n",
    "    max_depth=5,\n",
    "    min_child_weight=1,\n",
    "    gamma=0,\n",
    "    subsample=0.7,\n",
    "    colsample_bytree=0.7,\n",
    "    objective= 'binary:logistic',\n",
    "    nthread=4,\n",
    "    scale_pos_weight=1,\n",
    "    seed=99)\n",
    "\n",
    "# retrieve params\n",
    "xgb_param = clf.get_xgb_params()"
   ]
  },
  {
   "cell_type": "code",
   "execution_count": 77,
   "metadata": {},
   "outputs": [],
   "source": [
    "xgtrain = xgb.DMatrix(X_train.as_matrix(), label=Y_train.as_matrix())"
   ]
  },
  {
   "cell_type": "code",
   "execution_count": 78,
   "metadata": {},
   "outputs": [],
   "source": [
    "xgtest  = xgb.DMatrix(X_test.as_matrix())"
   ]
  },
  {
   "cell_type": "code",
   "execution_count": 79,
   "metadata": {},
   "outputs": [],
   "source": [
    "cv_folds = 5\n",
    "early_stopping_rounds = 50"
   ]
  },
  {
   "cell_type": "code",
   "execution_count": 80,
   "metadata": {},
   "outputs": [
    {
     "name": "stdout",
     "output_type": "stream",
     "text": [
      "\n",
      "Initializing cross-validation...\n",
      "[0]\ttrain-auc:0.692228+0.00852824\ttest-auc:0.613404+0.0362906\n",
      "[1]\ttrain-auc:0.724028+0.0139175\ttest-auc:0.633972+0.0268988\n",
      "[2]\ttrain-auc:0.74495+0.0070664\ttest-auc:0.639744+0.01752\n",
      "[3]\ttrain-auc:0.76278+0.00449822\ttest-auc:0.642737+0.0143473\n",
      "[4]\ttrain-auc:0.777723+0.00349305\ttest-auc:0.63966+0.0160836\n",
      "[5]\ttrain-auc:0.78642+0.00427298\ttest-auc:0.636816+0.0171957\n",
      "[6]\ttrain-auc:0.791989+0.00898467\ttest-auc:0.636426+0.0190909\n",
      "[7]\ttrain-auc:0.796336+0.008977\ttest-auc:0.640053+0.0187315\n",
      "[8]\ttrain-auc:0.800661+0.00619043\ttest-auc:0.636897+0.0187432\n",
      "[9]\ttrain-auc:0.803684+0.00874536\ttest-auc:0.636961+0.0159168\n",
      "[10]\ttrain-auc:0.806148+0.00763781\ttest-auc:0.634276+0.0171151\n",
      "[11]\ttrain-auc:0.806446+0.00750605\ttest-auc:0.638413+0.0193364\n",
      "[12]\ttrain-auc:0.807502+0.00633099\ttest-auc:0.637372+0.0202854\n",
      "[13]\ttrain-auc:0.810356+0.0066155\ttest-auc:0.6403+0.0209711\n",
      "[14]\ttrain-auc:0.811318+0.00722182\ttest-auc:0.639789+0.0191228\n",
      "[15]\ttrain-auc:0.812652+0.00733155\ttest-auc:0.639781+0.0181777\n",
      "[16]\ttrain-auc:0.813089+0.00767022\ttest-auc:0.642017+0.0202417\n",
      "[17]\ttrain-auc:0.81331+0.00853127\ttest-auc:0.64257+0.0208753\n",
      "[18]\ttrain-auc:0.813406+0.00889989\ttest-auc:0.644173+0.0211685\n",
      "[19]\ttrain-auc:0.813661+0.00916244\ttest-auc:0.64385+0.0186133\n",
      "[20]\ttrain-auc:0.815391+0.00892074\ttest-auc:0.642935+0.0187667\n",
      "[21]\ttrain-auc:0.816061+0.00899338\ttest-auc:0.644224+0.0190333\n",
      "[22]\ttrain-auc:0.816977+0.00839351\ttest-auc:0.643383+0.0193029\n",
      "[23]\ttrain-auc:0.818364+0.00928145\ttest-auc:0.642571+0.0186417\n",
      "[24]\ttrain-auc:0.818661+0.00844242\ttest-auc:0.642746+0.0184122\n",
      "[25]\ttrain-auc:0.819886+0.00840137\ttest-auc:0.643134+0.0177655\n",
      "[26]\ttrain-auc:0.820886+0.00875448\ttest-auc:0.644656+0.0186651\n",
      "[27]\ttrain-auc:0.821892+0.00854859\ttest-auc:0.645381+0.0184665\n",
      "[28]\ttrain-auc:0.822419+0.0085557\ttest-auc:0.645266+0.0185562\n",
      "[29]\ttrain-auc:0.823601+0.00817516\ttest-auc:0.643164+0.0177845\n",
      "[30]\ttrain-auc:0.823956+0.00849961\ttest-auc:0.643094+0.0170789\n",
      "[31]\ttrain-auc:0.824032+0.00849172\ttest-auc:0.643157+0.016854\n",
      "[32]\ttrain-auc:0.824343+0.00886925\ttest-auc:0.643406+0.0176082\n",
      "[33]\ttrain-auc:0.824994+0.00828494\ttest-auc:0.644195+0.0177093\n",
      "[34]\ttrain-auc:0.824876+0.0081548\ttest-auc:0.643919+0.0178852\n",
      "[35]\ttrain-auc:0.825125+0.00858346\ttest-auc:0.643626+0.0170947\n",
      "[36]\ttrain-auc:0.826142+0.00932171\ttest-auc:0.642758+0.01806\n",
      "[37]\ttrain-auc:0.827258+0.009734\ttest-auc:0.642846+0.0166161\n",
      "[38]\ttrain-auc:0.827623+0.00986797\ttest-auc:0.643567+0.0160887\n",
      "[39]\ttrain-auc:0.828366+0.00957784\ttest-auc:0.643272+0.016\n",
      "[40]\ttrain-auc:0.829193+0.0091641\ttest-auc:0.642983+0.0155452\n",
      "[41]\ttrain-auc:0.829251+0.00853535\ttest-auc:0.642768+0.0157991\n",
      "[42]\ttrain-auc:0.829809+0.00872138\ttest-auc:0.642239+0.0158093\n",
      "[43]\ttrain-auc:0.830019+0.00846637\ttest-auc:0.642736+0.015547\n",
      "[44]\ttrain-auc:0.830918+0.00876734\ttest-auc:0.64338+0.0151285\n",
      "[45]\ttrain-auc:0.831659+0.00907529\ttest-auc:0.643283+0.0155809\n",
      "[46]\ttrain-auc:0.831964+0.00861005\ttest-auc:0.643356+0.0164157\n",
      "[47]\ttrain-auc:0.832088+0.00867079\ttest-auc:0.643547+0.0163204\n",
      "[48]\ttrain-auc:0.832447+0.00884132\ttest-auc:0.64359+0.0163586\n",
      "[49]\ttrain-auc:0.832694+0.00874293\ttest-auc:0.643212+0.0159327\n",
      "[50]\ttrain-auc:0.832925+0.00818921\ttest-auc:0.644496+0.0161122\n",
      "[51]\ttrain-auc:0.833712+0.00825013\ttest-auc:0.644652+0.0146231\n",
      "[52]\ttrain-auc:0.834241+0.00845331\ttest-auc:0.644476+0.0133047\n",
      "[53]\ttrain-auc:0.834227+0.00790249\ttest-auc:0.645236+0.0130083\n",
      "[54]\ttrain-auc:0.834273+0.00771789\ttest-auc:0.645045+0.0131229\n",
      "[55]\ttrain-auc:0.834178+0.00770805\ttest-auc:0.645904+0.0139413\n",
      "[56]\ttrain-auc:0.83414+0.00741468\ttest-auc:0.646279+0.0138424\n",
      "[57]\ttrain-auc:0.835172+0.00779134\ttest-auc:0.645838+0.0143927\n",
      "[58]\ttrain-auc:0.835577+0.0077812\ttest-auc:0.64614+0.014497\n",
      "[59]\ttrain-auc:0.835722+0.00787761\ttest-auc:0.646557+0.0154374\n",
      "[60]\ttrain-auc:0.835712+0.00840631\ttest-auc:0.647153+0.0152978\n",
      "[61]\ttrain-auc:0.835848+0.00820532\ttest-auc:0.646158+0.0146984\n",
      "[62]\ttrain-auc:0.836238+0.0085525\ttest-auc:0.646047+0.0145762\n",
      "[63]\ttrain-auc:0.836578+0.00823542\ttest-auc:0.645702+0.0147047\n",
      "[64]\ttrain-auc:0.837658+0.00847725\ttest-auc:0.646025+0.0153479\n",
      "[65]\ttrain-auc:0.838417+0.00840609\ttest-auc:0.645847+0.0152707\n",
      "[66]\ttrain-auc:0.838683+0.00845991\ttest-auc:0.646363+0.0156014\n",
      "[67]\ttrain-auc:0.839164+0.0083694\ttest-auc:0.646453+0.0154552\n",
      "[68]\ttrain-auc:0.839614+0.00853628\ttest-auc:0.646785+0.0152323\n",
      "[69]\ttrain-auc:0.840577+0.00873114\ttest-auc:0.646372+0.0149035\n",
      "[70]\ttrain-auc:0.841151+0.00858297\ttest-auc:0.64626+0.0150797\n",
      "[71]\ttrain-auc:0.84132+0.00849963\ttest-auc:0.645846+0.0155814\n",
      "[72]\ttrain-auc:0.8417+0.00834448\ttest-auc:0.645667+0.0147272\n",
      "[73]\ttrain-auc:0.84176+0.00809658\ttest-auc:0.645174+0.0149493\n",
      "[74]\ttrain-auc:0.842416+0.0079251\ttest-auc:0.645661+0.0150665\n",
      "[75]\ttrain-auc:0.843131+0.00812925\ttest-auc:0.645454+0.0153425\n",
      "[76]\ttrain-auc:0.843288+0.00838248\ttest-auc:0.645531+0.0151606\n",
      "[77]\ttrain-auc:0.843546+0.00843811\ttest-auc:0.645523+0.0153287\n",
      "[78]\ttrain-auc:0.843827+0.00837621\ttest-auc:0.645345+0.0155458\n",
      "[79]\ttrain-auc:0.843734+0.00836335\ttest-auc:0.645522+0.0158026\n",
      "[80]\ttrain-auc:0.843853+0.0084235\ttest-auc:0.644914+0.0155896\n",
      "[81]\ttrain-auc:0.844568+0.00855504\ttest-auc:0.644694+0.0152811\n",
      "[82]\ttrain-auc:0.84499+0.00872675\ttest-auc:0.644427+0.015551\n",
      "[83]\ttrain-auc:0.84505+0.00894043\ttest-auc:0.64518+0.0163135\n",
      "[84]\ttrain-auc:0.84533+0.0089865\ttest-auc:0.645406+0.0165719\n",
      "[85]\ttrain-auc:0.845685+0.00882756\ttest-auc:0.645833+0.0165998\n",
      "[86]\ttrain-auc:0.845887+0.00895428\ttest-auc:0.645683+0.0166276\n",
      "[87]\ttrain-auc:0.846098+0.0090627\ttest-auc:0.645741+0.0162262\n",
      "[88]\ttrain-auc:0.846652+0.00892005\ttest-auc:0.645869+0.0166846\n",
      "[89]\ttrain-auc:0.846944+0.00862517\ttest-auc:0.646188+0.0165014\n",
      "[90]\ttrain-auc:0.847279+0.00875623\ttest-auc:0.646475+0.0169237\n",
      "[91]\ttrain-auc:0.84767+0.00901484\ttest-auc:0.647064+0.0170526\n",
      "[92]\ttrain-auc:0.848277+0.00901793\ttest-auc:0.64729+0.0170899\n",
      "[93]\ttrain-auc:0.848612+0.00933896\ttest-auc:0.647146+0.0170208\n",
      "[94]\ttrain-auc:0.848853+0.0094035\ttest-auc:0.647487+0.0168367\n",
      "[95]\ttrain-auc:0.849254+0.00908621\ttest-auc:0.647851+0.0165236\n",
      "[96]\ttrain-auc:0.849563+0.00880729\ttest-auc:0.648191+0.0164198\n",
      "[97]\ttrain-auc:0.849942+0.00885334\ttest-auc:0.647959+0.0161256\n",
      "[98]\ttrain-auc:0.850549+0.00872109\ttest-auc:0.64779+0.0163483\n",
      "[99]\ttrain-auc:0.850673+0.0088053\ttest-auc:0.647703+0.0161188\n",
      "[100]\ttrain-auc:0.851107+0.00863911\ttest-auc:0.647839+0.0158514\n",
      "[101]\ttrain-auc:0.851694+0.00858079\ttest-auc:0.648049+0.0152059\n",
      "[102]\ttrain-auc:0.852192+0.00843487\ttest-auc:0.647946+0.0149882\n",
      "[103]\ttrain-auc:0.852161+0.00848151\ttest-auc:0.648319+0.0149296\n",
      "[104]\ttrain-auc:0.852622+0.00844555\ttest-auc:0.648539+0.0150645\n",
      "[105]\ttrain-auc:0.853372+0.00845844\ttest-auc:0.648816+0.0152728\n",
      "[106]\ttrain-auc:0.853928+0.00828243\ttest-auc:0.648606+0.0149286\n",
      "[107]\ttrain-auc:0.854387+0.00828297\ttest-auc:0.648723+0.0148088\n",
      "[108]\ttrain-auc:0.854663+0.0080033\ttest-auc:0.648477+0.0144392\n",
      "[109]\ttrain-auc:0.854805+0.00808087\ttest-auc:0.648443+0.0147565\n",
      "[110]\ttrain-auc:0.854745+0.00787063\ttest-auc:0.648639+0.0148017\n",
      "[111]\ttrain-auc:0.855101+0.00768577\ttest-auc:0.648392+0.0148112\n",
      "[112]\ttrain-auc:0.855482+0.00774634\ttest-auc:0.648888+0.0149889\n",
      "[113]\ttrain-auc:0.855905+0.00768778\ttest-auc:0.64924+0.0148126\n",
      "[114]\ttrain-auc:0.856369+0.00796956\ttest-auc:0.64936+0.0151437\n",
      "[115]\ttrain-auc:0.856596+0.00804925\ttest-auc:0.649597+0.0149842\n",
      "[116]\ttrain-auc:0.857056+0.00793459\ttest-auc:0.649803+0.0149239\n",
      "[117]\ttrain-auc:0.857237+0.00798657\ttest-auc:0.649862+0.0150517\n",
      "[118]\ttrain-auc:0.857582+0.00806423\ttest-auc:0.649549+0.0151808\n",
      "[119]\ttrain-auc:0.857585+0.00819632\ttest-auc:0.649588+0.0150433\n",
      "[120]\ttrain-auc:0.857842+0.00813674\ttest-auc:0.649528+0.0149487\n",
      "[121]\ttrain-auc:0.858103+0.00820861\ttest-auc:0.650186+0.0150519\n",
      "[122]\ttrain-auc:0.858469+0.00799992\ttest-auc:0.650084+0.0150994\n",
      "[123]\ttrain-auc:0.858879+0.00807426\ttest-auc:0.650061+0.0147103\n",
      "[124]\ttrain-auc:0.859091+0.00798734\ttest-auc:0.650586+0.0147834\n",
      "[125]\ttrain-auc:0.859421+0.00796639\ttest-auc:0.65068+0.0149374\n",
      "[126]\ttrain-auc:0.859866+0.00799115\ttest-auc:0.650468+0.0148075\n",
      "[127]\ttrain-auc:0.860039+0.00805081\ttest-auc:0.650317+0.0146849\n",
      "[128]\ttrain-auc:0.860285+0.00810389\ttest-auc:0.650288+0.0151672\n",
      "[129]\ttrain-auc:0.860759+0.00832327\ttest-auc:0.649995+0.0150077\n",
      "[130]\ttrain-auc:0.861086+0.00832149\ttest-auc:0.650482+0.0153878\n"
     ]
    },
    {
     "name": "stdout",
     "output_type": "stream",
     "text": [
      "[131]\ttrain-auc:0.861574+0.0083148\ttest-auc:0.650164+0.0151317\n",
      "[132]\ttrain-auc:0.861721+0.00833857\ttest-auc:0.649871+0.0152257\n",
      "[133]\ttrain-auc:0.862054+0.00836234\ttest-auc:0.650127+0.0151429\n",
      "[134]\ttrain-auc:0.862365+0.00820181\ttest-auc:0.650121+0.0155416\n",
      "[135]\ttrain-auc:0.862701+0.008288\ttest-auc:0.650327+0.015301\n",
      "[136]\ttrain-auc:0.862954+0.00821589\ttest-auc:0.650445+0.0152091\n",
      "[137]\ttrain-auc:0.86327+0.00798675\ttest-auc:0.650169+0.0151749\n",
      "[138]\ttrain-auc:0.863425+0.00794154\ttest-auc:0.650316+0.0156576\n",
      "[139]\ttrain-auc:0.863735+0.00755809\ttest-auc:0.65061+0.0160148\n",
      "[140]\ttrain-auc:0.86409+0.00759184\ttest-auc:0.650759+0.0158093\n",
      "[141]\ttrain-auc:0.864306+0.00754062\ttest-auc:0.651107+0.0158752\n",
      "[142]\ttrain-auc:0.864499+0.00748211\ttest-auc:0.651344+0.0154729\n",
      "[143]\ttrain-auc:0.864746+0.00730386\ttest-auc:0.651479+0.015375\n",
      "[144]\ttrain-auc:0.864942+0.00744125\ttest-auc:0.651305+0.0153107\n",
      "[145]\ttrain-auc:0.865189+0.0073635\ttest-auc:0.651117+0.0153146\n",
      "[146]\ttrain-auc:0.865602+0.00733822\ttest-auc:0.651267+0.0151194\n",
      "[147]\ttrain-auc:0.865729+0.00741187\ttest-auc:0.651264+0.0150815\n",
      "[148]\ttrain-auc:0.865955+0.00749555\ttest-auc:0.650913+0.0152668\n",
      "[149]\ttrain-auc:0.866169+0.00758954\ttest-auc:0.651606+0.0151058\n",
      "[150]\ttrain-auc:0.866557+0.00757237\ttest-auc:0.651811+0.015311\n",
      "[151]\ttrain-auc:0.866777+0.00761002\ttest-auc:0.651702+0.0150661\n",
      "[152]\ttrain-auc:0.867024+0.00766259\ttest-auc:0.651455+0.014898\n",
      "[153]\ttrain-auc:0.867411+0.00773646\ttest-auc:0.651777+0.0151262\n",
      "[154]\ttrain-auc:0.86753+0.00772199\ttest-auc:0.65215+0.0152405\n",
      "[155]\ttrain-auc:0.867871+0.00753406\ttest-auc:0.652086+0.0152634\n",
      "[156]\ttrain-auc:0.868177+0.00745009\ttest-auc:0.651939+0.0150958\n",
      "[157]\ttrain-auc:0.868421+0.00747299\ttest-auc:0.652274+0.0150409\n",
      "[158]\ttrain-auc:0.868659+0.00745186\ttest-auc:0.652302+0.0149065\n",
      "[159]\ttrain-auc:0.868814+0.0073188\ttest-auc:0.652257+0.0147261\n",
      "[160]\ttrain-auc:0.868997+0.00722446\ttest-auc:0.652136+0.0147915\n",
      "[161]\ttrain-auc:0.869215+0.00743638\ttest-auc:0.652252+0.0148789\n",
      "[162]\ttrain-auc:0.869618+0.00752567\ttest-auc:0.652136+0.0149748\n",
      "[163]\ttrain-auc:0.870015+0.0076849\ttest-auc:0.651901+0.0148648\n",
      "[164]\ttrain-auc:0.870185+0.00772512\ttest-auc:0.651974+0.0147147\n",
      "[165]\ttrain-auc:0.87046+0.00782127\ttest-auc:0.652266+0.0146535\n",
      "[166]\ttrain-auc:0.870488+0.00756601\ttest-auc:0.652596+0.0145423\n",
      "[167]\ttrain-auc:0.87093+0.00745754\ttest-auc:0.652209+0.0147623\n",
      "[168]\ttrain-auc:0.871132+0.00743563\ttest-auc:0.65237+0.0148109\n",
      "[169]\ttrain-auc:0.871544+0.00746904\ttest-auc:0.652421+0.0152688\n",
      "[170]\ttrain-auc:0.871818+0.00745295\ttest-auc:0.651894+0.0154335\n",
      "[171]\ttrain-auc:0.87203+0.00747731\ttest-auc:0.652015+0.0154451\n",
      "[172]\ttrain-auc:0.872388+0.00738396\ttest-auc:0.652214+0.0151021\n",
      "[173]\ttrain-auc:0.872708+0.00744472\ttest-auc:0.652493+0.0150866\n",
      "[174]\ttrain-auc:0.872835+0.00746906\ttest-auc:0.652471+0.0147086\n",
      "[175]\ttrain-auc:0.873141+0.0075631\ttest-auc:0.652667+0.0148946\n",
      "[176]\ttrain-auc:0.873277+0.00734858\ttest-auc:0.652725+0.0145328\n",
      "[177]\ttrain-auc:0.873407+0.00734534\ttest-auc:0.652625+0.014445\n",
      "[178]\ttrain-auc:0.873736+0.00713976\ttest-auc:0.652708+0.0144088\n",
      "[179]\ttrain-auc:0.874038+0.00711635\ttest-auc:0.653069+0.0146098\n",
      "[180]\ttrain-auc:0.874288+0.00705804\ttest-auc:0.652612+0.0147355\n",
      "[181]\ttrain-auc:0.874458+0.0070869\ttest-auc:0.652623+0.0148681\n",
      "[182]\ttrain-auc:0.874978+0.00693286\ttest-auc:0.652729+0.0144909\n",
      "[183]\ttrain-auc:0.875494+0.0068254\ttest-auc:0.653027+0.0145968\n",
      "[184]\ttrain-auc:0.875539+0.00692044\ttest-auc:0.653116+0.0146764\n",
      "[185]\ttrain-auc:0.875674+0.00693548\ttest-auc:0.653197+0.0146765\n",
      "[186]\ttrain-auc:0.875981+0.00696084\ttest-auc:0.653012+0.0146363\n",
      "[187]\ttrain-auc:0.876262+0.00678483\ttest-auc:0.653112+0.0151433\n",
      "[188]\ttrain-auc:0.876541+0.00680725\ttest-auc:0.65269+0.0147357\n",
      "[189]\ttrain-auc:0.876734+0.00681898\ttest-auc:0.652808+0.0146938\n",
      "[190]\ttrain-auc:0.877023+0.00670147\ttest-auc:0.652728+0.0145939\n",
      "[191]\ttrain-auc:0.877381+0.00668758\ttest-auc:0.652724+0.0144385\n",
      "[192]\ttrain-auc:0.877647+0.00663194\ttest-auc:0.652633+0.0142831\n",
      "[193]\ttrain-auc:0.877863+0.00670025\ttest-auc:0.652806+0.0142459\n",
      "[194]\ttrain-auc:0.878003+0.00666072\ttest-auc:0.652811+0.0144044\n",
      "[195]\ttrain-auc:0.87841+0.00654363\ttest-auc:0.652617+0.0142074\n",
      "[196]\ttrain-auc:0.878648+0.00675357\ttest-auc:0.652647+0.0141363\n",
      "[197]\ttrain-auc:0.878936+0.00686105\ttest-auc:0.652682+0.0137648\n",
      "[198]\ttrain-auc:0.879399+0.00674381\ttest-auc:0.652824+0.0138545\n",
      "[199]\ttrain-auc:0.879629+0.00688024\ttest-auc:0.652902+0.0136521\n",
      "[200]\ttrain-auc:0.880043+0.00688454\ttest-auc:0.652913+0.0137072\n",
      "[201]\ttrain-auc:0.880342+0.00690951\ttest-auc:0.652899+0.0134079\n",
      "[202]\ttrain-auc:0.880424+0.00691501\ttest-auc:0.65282+0.0131311\n",
      "[203]\ttrain-auc:0.880665+0.00675095\ttest-auc:0.652759+0.0131664\n",
      "[204]\ttrain-auc:0.880788+0.00665379\ttest-auc:0.652973+0.0132745\n",
      "[205]\ttrain-auc:0.88096+0.00661024\ttest-auc:0.652961+0.0134766\n",
      "[206]\ttrain-auc:0.881209+0.00656747\ttest-auc:0.653091+0.0135087\n",
      "[207]\ttrain-auc:0.88163+0.00655348\ttest-auc:0.653207+0.0134411\n",
      "[208]\ttrain-auc:0.88169+0.00647912\ttest-auc:0.653277+0.0134576\n",
      "[209]\ttrain-auc:0.881916+0.00635344\ttest-auc:0.653484+0.0133423\n",
      "[210]\ttrain-auc:0.882039+0.00639885\ttest-auc:0.653642+0.0134583\n",
      "[211]\ttrain-auc:0.882205+0.00638958\ttest-auc:0.653271+0.01359\n",
      "[212]\ttrain-auc:0.8824+0.00645317\ttest-auc:0.653312+0.0138415\n",
      "[213]\ttrain-auc:0.882673+0.00657634\ttest-auc:0.653668+0.0138661\n",
      "[214]\ttrain-auc:0.882868+0.00666815\ttest-auc:0.653573+0.0137847\n",
      "[215]\ttrain-auc:0.883002+0.00655342\ttest-auc:0.653793+0.0134305\n",
      "[216]\ttrain-auc:0.88317+0.00648508\ttest-auc:0.653562+0.0135297\n",
      "[217]\ttrain-auc:0.88346+0.00634525\ttest-auc:0.653879+0.0132461\n",
      "[218]\ttrain-auc:0.883552+0.0063223\ttest-auc:0.654102+0.0134844\n",
      "[219]\ttrain-auc:0.883706+0.00641724\ttest-auc:0.654295+0.0133836\n",
      "[220]\ttrain-auc:0.883794+0.0062684\ttest-auc:0.654357+0.013594\n",
      "[221]\ttrain-auc:0.884152+0.00627575\ttest-auc:0.654549+0.0137556\n",
      "[222]\ttrain-auc:0.884476+0.0063263\ttest-auc:0.654667+0.0138124\n",
      "[223]\ttrain-auc:0.884768+0.00638045\ttest-auc:0.654916+0.0136134\n",
      "[224]\ttrain-auc:0.885121+0.00646052\ttest-auc:0.655138+0.0139585\n",
      "[225]\ttrain-auc:0.885341+0.00655671\ttest-auc:0.655412+0.0138958\n",
      "[226]\ttrain-auc:0.885659+0.00651357\ttest-auc:0.654966+0.0138936\n",
      "[227]\ttrain-auc:0.885979+0.00637872\ttest-auc:0.654907+0.0139467\n",
      "[228]\ttrain-auc:0.886255+0.00624406\ttest-auc:0.654983+0.0138407\n",
      "[229]\ttrain-auc:0.886466+0.00637057\ttest-auc:0.65514+0.0139851\n",
      "[230]\ttrain-auc:0.886693+0.00637212\ttest-auc:0.655154+0.0140698\n",
      "[231]\ttrain-auc:0.886838+0.00619626\ttest-auc:0.65529+0.0143042\n",
      "[232]\ttrain-auc:0.887253+0.0061349\ttest-auc:0.655455+0.0143028\n",
      "[233]\ttrain-auc:0.887406+0.00611571\ttest-auc:0.655119+0.0143105\n",
      "[234]\ttrain-auc:0.887698+0.00610652\ttest-auc:0.655163+0.0144983\n",
      "[235]\ttrain-auc:0.888046+0.00605395\ttest-auc:0.655178+0.0145327\n",
      "[236]\ttrain-auc:0.888249+0.00617873\ttest-auc:0.654993+0.0148399\n",
      "[237]\ttrain-auc:0.888466+0.00617269\ttest-auc:0.655158+0.0150391\n",
      "[238]\ttrain-auc:0.888581+0.00618571\ttest-auc:0.655208+0.0149376\n",
      "[239]\ttrain-auc:0.888816+0.00622848\ttest-auc:0.655417+0.0148991\n",
      "[240]\ttrain-auc:0.889196+0.00619063\ttest-auc:0.65547+0.0150895\n",
      "[241]\ttrain-auc:0.889484+0.00617697\ttest-auc:0.6558+0.0152295\n",
      "[242]\ttrain-auc:0.889566+0.00625461\ttest-auc:0.655944+0.0154865\n",
      "[243]\ttrain-auc:0.889771+0.00628392\ttest-auc:0.655684+0.0153434\n",
      "[244]\ttrain-auc:0.890029+0.0063409\ttest-auc:0.655732+0.0155719\n",
      "[245]\ttrain-auc:0.890187+0.00633917\ttest-auc:0.65573+0.015457\n",
      "[246]\ttrain-auc:0.890442+0.00636355\ttest-auc:0.655459+0.0153967\n",
      "[247]\ttrain-auc:0.890636+0.00628092\ttest-auc:0.655342+0.0153063\n",
      "[248]\ttrain-auc:0.890953+0.00634723\ttest-auc:0.655443+0.0156109\n",
      "[249]\ttrain-auc:0.89114+0.00631591\ttest-auc:0.655407+0.0155108\n",
      "[250]\ttrain-auc:0.891401+0.00638729\ttest-auc:0.65559+0.0153214\n",
      "[251]\ttrain-auc:0.891454+0.0063324\ttest-auc:0.655577+0.0153712\n",
      "[252]\ttrain-auc:0.891697+0.00619886\ttest-auc:0.655442+0.0154254\n",
      "[253]\ttrain-auc:0.892057+0.00620548\ttest-auc:0.655367+0.0154868\n",
      "[254]\ttrain-auc:0.892312+0.00633422\ttest-auc:0.655312+0.015257\n",
      "[255]\ttrain-auc:0.892604+0.00628505\ttest-auc:0.655336+0.0153773\n",
      "[256]\ttrain-auc:0.892916+0.00624626\ttest-auc:0.655367+0.0155122\n",
      "[257]\ttrain-auc:0.89308+0.00603619\ttest-auc:0.655317+0.0151969\n",
      "[258]\ttrain-auc:0.893265+0.00606094\ttest-auc:0.655186+0.0152151\n",
      "[259]\ttrain-auc:0.89367+0.00591906\ttest-auc:0.655166+0.0151736\n"
     ]
    },
    {
     "name": "stdout",
     "output_type": "stream",
     "text": [
      "[260]\ttrain-auc:0.893897+0.00604294\ttest-auc:0.654945+0.0149836\n",
      "[261]\ttrain-auc:0.894246+0.00605448\ttest-auc:0.654937+0.0150485\n",
      "[262]\ttrain-auc:0.894438+0.00597478\ttest-auc:0.655137+0.0151676\n",
      "[263]\ttrain-auc:0.894537+0.00586248\ttest-auc:0.655171+0.0154765\n",
      "[264]\ttrain-auc:0.894739+0.00580525\ttest-auc:0.655206+0.0155015\n",
      "[265]\ttrain-auc:0.894884+0.00573479\ttest-auc:0.655239+0.0153798\n",
      "[266]\ttrain-auc:0.89511+0.00572771\ttest-auc:0.655251+0.0155388\n",
      "[267]\ttrain-auc:0.89549+0.00567709\ttest-auc:0.655399+0.0157407\n",
      "[268]\ttrain-auc:0.895665+0.00568839\ttest-auc:0.655681+0.015792\n",
      "[269]\ttrain-auc:0.895946+0.00563986\ttest-auc:0.655908+0.0158833\n",
      "[270]\ttrain-auc:0.896168+0.0056952\ttest-auc:0.656164+0.0157466\n",
      "[271]\ttrain-auc:0.89644+0.00562532\ttest-auc:0.656178+0.0155948\n",
      "[272]\ttrain-auc:0.896753+0.00575589\ttest-auc:0.655988+0.0156492\n",
      "[273]\ttrain-auc:0.896877+0.0056791\ttest-auc:0.656017+0.0157571\n",
      "[274]\ttrain-auc:0.897091+0.00561226\ttest-auc:0.655985+0.0156998\n",
      "[275]\ttrain-auc:0.897415+0.00551024\ttest-auc:0.656126+0.015989\n",
      "[276]\ttrain-auc:0.897623+0.00552803\ttest-auc:0.65615+0.0157984\n",
      "[277]\ttrain-auc:0.897777+0.00536283\ttest-auc:0.656241+0.0157556\n",
      "[278]\ttrain-auc:0.898154+0.00531424\ttest-auc:0.656075+0.0159166\n",
      "[279]\ttrain-auc:0.898312+0.00536825\ttest-auc:0.655876+0.0157772\n",
      "[280]\ttrain-auc:0.89839+0.00540406\ttest-auc:0.65607+0.0158126\n",
      "[281]\ttrain-auc:0.898692+0.00538354\ttest-auc:0.655817+0.0158238\n",
      "[282]\ttrain-auc:0.898908+0.00547087\ttest-auc:0.656007+0.0158691\n",
      "[283]\ttrain-auc:0.899178+0.00547123\ttest-auc:0.656022+0.0156902\n",
      "[284]\ttrain-auc:0.899238+0.00543061\ttest-auc:0.655908+0.0159264\n",
      "[285]\ttrain-auc:0.899495+0.00538074\ttest-auc:0.656141+0.0155531\n",
      "[286]\ttrain-auc:0.899798+0.00523557\ttest-auc:0.656272+0.015456\n",
      "[287]\ttrain-auc:0.899951+0.00509516\ttest-auc:0.656293+0.0154258\n",
      "[288]\ttrain-auc:0.900114+0.00514985\ttest-auc:0.656548+0.0153871\n",
      "[289]\ttrain-auc:0.900363+0.00499129\ttest-auc:0.656592+0.0152967\n",
      "[290]\ttrain-auc:0.900653+0.00480919\ttest-auc:0.656634+0.0151078\n",
      "[291]\ttrain-auc:0.900849+0.00468642\ttest-auc:0.656638+0.0151405\n",
      "[292]\ttrain-auc:0.901105+0.00460582\ttest-auc:0.65694+0.0151665\n",
      "[293]\ttrain-auc:0.901272+0.00441171\ttest-auc:0.65693+0.0150562\n",
      "[294]\ttrain-auc:0.901369+0.00442342\ttest-auc:0.656948+0.0150024\n",
      "[295]\ttrain-auc:0.901599+0.00441543\ttest-auc:0.656849+0.0147545\n",
      "[296]\ttrain-auc:0.901788+0.00438499\ttest-auc:0.656859+0.0145882\n",
      "[297]\ttrain-auc:0.902094+0.00449084\ttest-auc:0.656956+0.0147736\n",
      "[298]\ttrain-auc:0.902301+0.00455525\ttest-auc:0.65695+0.014885\n",
      "[299]\ttrain-auc:0.902465+0.00456167\ttest-auc:0.657209+0.0148168\n",
      "[300]\ttrain-auc:0.902673+0.00462583\ttest-auc:0.657279+0.0146954\n",
      "[301]\ttrain-auc:0.903011+0.00465675\ttest-auc:0.657531+0.0148368\n",
      "[302]\ttrain-auc:0.903244+0.00464452\ttest-auc:0.657541+0.0145998\n",
      "[303]\ttrain-auc:0.903437+0.00462901\ttest-auc:0.65762+0.0146588\n",
      "[304]\ttrain-auc:0.903717+0.00455256\ttest-auc:0.657655+0.0146957\n",
      "[305]\ttrain-auc:0.904041+0.00452471\ttest-auc:0.657536+0.0147492\n",
      "[306]\ttrain-auc:0.904205+0.0045401\ttest-auc:0.657149+0.0144644\n",
      "[307]\ttrain-auc:0.90443+0.00465394\ttest-auc:0.657336+0.0145131\n",
      "[308]\ttrain-auc:0.904641+0.00459177\ttest-auc:0.657198+0.0145643\n",
      "[309]\ttrain-auc:0.904747+0.00466207\ttest-auc:0.657346+0.0143105\n",
      "[310]\ttrain-auc:0.904807+0.00460501\ttest-auc:0.657223+0.0146137\n",
      "[311]\ttrain-auc:0.905048+0.00455052\ttest-auc:0.657383+0.0144692\n",
      "[312]\ttrain-auc:0.905257+0.00461586\ttest-auc:0.657353+0.0143343\n",
      "[313]\ttrain-auc:0.905395+0.0046023\ttest-auc:0.657368+0.0144671\n",
      "[314]\ttrain-auc:0.905634+0.00469206\ttest-auc:0.65766+0.014609\n",
      "[315]\ttrain-auc:0.905822+0.00468574\ttest-auc:0.657663+0.01441\n",
      "[316]\ttrain-auc:0.90597+0.0046637\ttest-auc:0.657653+0.0144691\n",
      "[317]\ttrain-auc:0.906301+0.00474812\ttest-auc:0.657725+0.0144342\n",
      "[318]\ttrain-auc:0.906481+0.00482395\ttest-auc:0.657594+0.0141935\n",
      "[319]\ttrain-auc:0.906693+0.00471099\ttest-auc:0.657193+0.0141891\n",
      "[320]\ttrain-auc:0.906874+0.00474807\ttest-auc:0.657146+0.0141627\n",
      "[321]\ttrain-auc:0.907139+0.00483688\ttest-auc:0.657401+0.0141176\n",
      "[322]\ttrain-auc:0.907335+0.00491479\ttest-auc:0.657534+0.0140769\n",
      "[323]\ttrain-auc:0.90763+0.00485432\ttest-auc:0.657604+0.013862\n",
      "[324]\ttrain-auc:0.907822+0.00476239\ttest-auc:0.657516+0.0137607\n",
      "[325]\ttrain-auc:0.908025+0.00477415\ttest-auc:0.657483+0.0137315\n",
      "[326]\ttrain-auc:0.908255+0.00474401\ttest-auc:0.657089+0.0134376\n",
      "[327]\ttrain-auc:0.908567+0.00469459\ttest-auc:0.656827+0.0132112\n",
      "[328]\ttrain-auc:0.90871+0.00466547\ttest-auc:0.657224+0.0130811\n",
      "[329]\ttrain-auc:0.908814+0.00461575\ttest-auc:0.657442+0.0133556\n",
      "[330]\ttrain-auc:0.909057+0.00469375\ttest-auc:0.657485+0.013335\n",
      "[331]\ttrain-auc:0.909194+0.00462367\ttest-auc:0.657488+0.0133365\n",
      "[332]\ttrain-auc:0.909373+0.00461564\ttest-auc:0.657651+0.0134979\n",
      "[333]\ttrain-auc:0.909514+0.00469813\ttest-auc:0.657504+0.013465\n",
      "[334]\ttrain-auc:0.909688+0.00467778\ttest-auc:0.657501+0.0134792\n",
      "[335]\ttrain-auc:0.909834+0.00466057\ttest-auc:0.65735+0.0135019\n",
      "[336]\ttrain-auc:0.909936+0.00468493\ttest-auc:0.65715+0.013571\n",
      "[337]\ttrain-auc:0.910134+0.00467487\ttest-auc:0.657326+0.013682\n",
      "[338]\ttrain-auc:0.910187+0.00455957\ttest-auc:0.657446+0.0135806\n",
      "[339]\ttrain-auc:0.910295+0.00455528\ttest-auc:0.657398+0.0133311\n",
      "[340]\ttrain-auc:0.910507+0.00455139\ttest-auc:0.657562+0.013294\n",
      "[341]\ttrain-auc:0.91073+0.0046582\ttest-auc:0.657726+0.0133623\n",
      "[342]\ttrain-auc:0.910953+0.00465637\ttest-auc:0.657618+0.0134793\n",
      "[343]\ttrain-auc:0.911131+0.00457464\ttest-auc:0.65771+0.0133065\n",
      "[344]\ttrain-auc:0.911295+0.00451999\ttest-auc:0.65785+0.0136572\n",
      "[345]\ttrain-auc:0.911467+0.00445956\ttest-auc:0.657774+0.0137411\n",
      "[346]\ttrain-auc:0.911733+0.00426589\ttest-auc:0.658092+0.0139416\n",
      "[347]\ttrain-auc:0.911884+0.00422208\ttest-auc:0.657844+0.013832\n",
      "[348]\ttrain-auc:0.912128+0.00412141\ttest-auc:0.657562+0.0136995\n",
      "[349]\ttrain-auc:0.912351+0.0041412\ttest-auc:0.657704+0.0136785\n",
      "[350]\ttrain-auc:0.912679+0.00407218\ttest-auc:0.657826+0.0136631\n",
      "[351]\ttrain-auc:0.912876+0.00395342\ttest-auc:0.657528+0.0137808\n",
      "[352]\ttrain-auc:0.913017+0.00390376\ttest-auc:0.657442+0.0136747\n",
      "[353]\ttrain-auc:0.91323+0.00385929\ttest-auc:0.657563+0.0135154\n",
      "[354]\ttrain-auc:0.91338+0.00381163\ttest-auc:0.657352+0.0135058\n",
      "[355]\ttrain-auc:0.913526+0.00377365\ttest-auc:0.657627+0.013703\n",
      "[356]\ttrain-auc:0.913729+0.00376318\ttest-auc:0.657575+0.0138748\n",
      "[357]\ttrain-auc:0.913953+0.00368471\ttest-auc:0.657686+0.0139883\n",
      "[358]\ttrain-auc:0.914098+0.00369091\ttest-auc:0.657744+0.0137127\n",
      "[359]\ttrain-auc:0.914323+0.0035419\ttest-auc:0.657734+0.0136541\n",
      "[360]\ttrain-auc:0.914507+0.00353658\ttest-auc:0.657797+0.0137324\n",
      "[361]\ttrain-auc:0.91471+0.0034916\ttest-auc:0.657871+0.0138042\n",
      "[362]\ttrain-auc:0.914901+0.00348447\ttest-auc:0.65779+0.0138406\n",
      "[363]\ttrain-auc:0.915035+0.00342817\ttest-auc:0.65763+0.0137406\n",
      "[364]\ttrain-auc:0.915306+0.00344861\ttest-auc:0.657871+0.0134818\n",
      "[365]\ttrain-auc:0.915496+0.00337491\ttest-auc:0.657929+0.013547\n",
      "[366]\ttrain-auc:0.915581+0.00334497\ttest-auc:0.657798+0.0139812\n",
      "[367]\ttrain-auc:0.915816+0.00320024\ttest-auc:0.657905+0.014103\n",
      "[368]\ttrain-auc:0.916081+0.00327332\ttest-auc:0.658083+0.014008\n",
      "[369]\ttrain-auc:0.916385+0.00325737\ttest-auc:0.65818+0.0142646\n",
      "[370]\ttrain-auc:0.916652+0.00321852\ttest-auc:0.657869+0.014458\n",
      "[371]\ttrain-auc:0.916854+0.00325922\ttest-auc:0.658049+0.0143801\n",
      "[372]\ttrain-auc:0.917027+0.00336235\ttest-auc:0.658427+0.014392\n",
      "[373]\ttrain-auc:0.917184+0.00341281\ttest-auc:0.658472+0.0145139\n",
      "[374]\ttrain-auc:0.917248+0.00329746\ttest-auc:0.65865+0.0146123\n",
      "[375]\ttrain-auc:0.917396+0.0033294\ttest-auc:0.658633+0.0144511\n",
      "[376]\ttrain-auc:0.917601+0.00335379\ttest-auc:0.658392+0.0144514\n",
      "[377]\ttrain-auc:0.91785+0.00330992\ttest-auc:0.658157+0.0144323\n",
      "[378]\ttrain-auc:0.918052+0.00320183\ttest-auc:0.658394+0.0143588\n",
      "[379]\ttrain-auc:0.918337+0.00312601\ttest-auc:0.658466+0.0145522\n",
      "[380]\ttrain-auc:0.918562+0.00310626\ttest-auc:0.658695+0.014757\n",
      "[381]\ttrain-auc:0.918809+0.00300901\ttest-auc:0.658614+0.0146747\n",
      "[382]\ttrain-auc:0.918914+0.00301236\ttest-auc:0.658634+0.0147151\n",
      "[383]\ttrain-auc:0.919122+0.00300346\ttest-auc:0.658569+0.0144127\n",
      "[384]\ttrain-auc:0.919384+0.00292237\ttest-auc:0.658617+0.0146131\n",
      "[385]\ttrain-auc:0.919708+0.00281076\ttest-auc:0.6585+0.0144651\n",
      "[386]\ttrain-auc:0.91995+0.00288095\ttest-auc:0.658517+0.0145112\n",
      "[387]\ttrain-auc:0.920093+0.00280151\ttest-auc:0.658701+0.0144542\n",
      "[388]\ttrain-auc:0.920361+0.0028427\ttest-auc:0.658798+0.014439\n",
      "[389]\ttrain-auc:0.920503+0.00270493\ttest-auc:0.658819+0.0143838\n"
     ]
    },
    {
     "name": "stdout",
     "output_type": "stream",
     "text": [
      "[390]\ttrain-auc:0.920663+0.00268175\ttest-auc:0.658998+0.0144506\n",
      "[391]\ttrain-auc:0.92079+0.00271752\ttest-auc:0.658994+0.0144\n",
      "[392]\ttrain-auc:0.920914+0.00273754\ttest-auc:0.659056+0.014615\n",
      "[393]\ttrain-auc:0.921078+0.00263445\ttest-auc:0.659012+0.0146115\n",
      "[394]\ttrain-auc:0.921266+0.00265598\ttest-auc:0.659142+0.0145105\n",
      "[395]\ttrain-auc:0.921378+0.00259772\ttest-auc:0.659139+0.0144658\n",
      "[396]\ttrain-auc:0.921587+0.00260271\ttest-auc:0.659016+0.014585\n",
      "[397]\ttrain-auc:0.921749+0.00257668\ttest-auc:0.659082+0.014644\n",
      "[398]\ttrain-auc:0.921898+0.00258615\ttest-auc:0.659123+0.014671\n",
      "[399]\ttrain-auc:0.922049+0.00260488\ttest-auc:0.65912+0.01457\n",
      "[400]\ttrain-auc:0.922235+0.00261521\ttest-auc:0.659148+0.0144273\n",
      "[401]\ttrain-auc:0.922304+0.00259594\ttest-auc:0.659053+0.0143035\n",
      "[402]\ttrain-auc:0.922487+0.00267409\ttest-auc:0.659097+0.0144007\n",
      "[403]\ttrain-auc:0.92265+0.00275627\ttest-auc:0.658752+0.0147325\n",
      "[404]\ttrain-auc:0.922848+0.00282896\ttest-auc:0.658618+0.0146728\n",
      "[405]\ttrain-auc:0.923097+0.00291426\ttest-auc:0.658758+0.0148931\n",
      "[406]\ttrain-auc:0.923307+0.00287851\ttest-auc:0.659105+0.0148652\n",
      "[407]\ttrain-auc:0.923448+0.00294755\ttest-auc:0.658944+0.0148246\n",
      "[408]\ttrain-auc:0.923681+0.00286424\ttest-auc:0.659043+0.0148414\n",
      "[409]\ttrain-auc:0.92378+0.00280597\ttest-auc:0.659069+0.0149155\n",
      "[410]\ttrain-auc:0.923946+0.00278538\ttest-auc:0.659072+0.0148337\n",
      "[411]\ttrain-auc:0.924099+0.0028199\ttest-auc:0.65888+0.0148003\n",
      "[412]\ttrain-auc:0.924277+0.00282789\ttest-auc:0.659055+0.0146224\n",
      "[413]\ttrain-auc:0.92454+0.00277552\ttest-auc:0.659076+0.0145564\n",
      "[414]\ttrain-auc:0.924583+0.00276142\ttest-auc:0.659031+0.0145295\n",
      "[415]\ttrain-auc:0.924771+0.00282816\ttest-auc:0.659168+0.0144058\n",
      "[416]\ttrain-auc:0.924877+0.00272956\ttest-auc:0.659006+0.0145451\n",
      "[417]\ttrain-auc:0.925019+0.00276065\ttest-auc:0.658959+0.0144926\n",
      "[418]\ttrain-auc:0.925186+0.00277489\ttest-auc:0.659015+0.0146345\n",
      "[419]\ttrain-auc:0.925375+0.00269819\ttest-auc:0.659075+0.0146419\n",
      "[420]\ttrain-auc:0.925586+0.00264422\ttest-auc:0.658917+0.0145944\n",
      "[421]\ttrain-auc:0.925752+0.00266093\ttest-auc:0.659015+0.0144974\n",
      "[422]\ttrain-auc:0.92589+0.00260727\ttest-auc:0.659253+0.0144996\n",
      "[423]\ttrain-auc:0.926049+0.00258463\ttest-auc:0.659044+0.0146698\n",
      "[424]\ttrain-auc:0.926234+0.00251957\ttest-auc:0.659159+0.0143345\n",
      "[425]\ttrain-auc:0.926366+0.00244786\ttest-auc:0.659285+0.0142792\n",
      "[426]\ttrain-auc:0.92644+0.00239196\ttest-auc:0.659242+0.0142603\n",
      "[427]\ttrain-auc:0.926619+0.00236766\ttest-auc:0.659088+0.0142927\n",
      "[428]\ttrain-auc:0.926886+0.00241978\ttest-auc:0.659144+0.0144218\n",
      "[429]\ttrain-auc:0.927065+0.00243101\ttest-auc:0.659121+0.0144204\n",
      "[430]\ttrain-auc:0.9272+0.00237564\ttest-auc:0.658977+0.01432\n",
      "[431]\ttrain-auc:0.927343+0.00233689\ttest-auc:0.658962+0.0141692\n",
      "[432]\ttrain-auc:0.927485+0.00228699\ttest-auc:0.658932+0.0143064\n",
      "[433]\ttrain-auc:0.92771+0.00220809\ttest-auc:0.658898+0.0145144\n",
      "[434]\ttrain-auc:0.927904+0.00226494\ttest-auc:0.658958+0.0143568\n",
      "[435]\ttrain-auc:0.928053+0.00223669\ttest-auc:0.65904+0.0143956\n",
      "[436]\ttrain-auc:0.928339+0.00217699\ttest-auc:0.658793+0.014321\n",
      "[437]\ttrain-auc:0.928422+0.00227321\ttest-auc:0.658757+0.0141984\n",
      "[438]\ttrain-auc:0.928573+0.00235498\ttest-auc:0.658948+0.0140739\n",
      "[439]\ttrain-auc:0.928762+0.00235812\ttest-auc:0.658857+0.0141896\n",
      "[440]\ttrain-auc:0.928876+0.00235633\ttest-auc:0.65884+0.0142007\n",
      "[441]\ttrain-auc:0.92915+0.00230865\ttest-auc:0.65874+0.0141249\n",
      "[442]\ttrain-auc:0.929307+0.00241931\ttest-auc:0.658653+0.0143587\n",
      "[443]\ttrain-auc:0.929471+0.00251441\ttest-auc:0.658553+0.0143336\n",
      "[444]\ttrain-auc:0.929623+0.00249056\ttest-auc:0.6585+0.0142987\n",
      "[445]\ttrain-auc:0.929729+0.00243548\ttest-auc:0.658655+0.0142762\n",
      "[446]\ttrain-auc:0.929839+0.00239956\ttest-auc:0.658938+0.0143018\n",
      "[447]\ttrain-auc:0.929928+0.00236306\ttest-auc:0.65863+0.0141521\n",
      "[448]\ttrain-auc:0.930091+0.00240507\ttest-auc:0.65849+0.0141124\n",
      "[449]\ttrain-auc:0.930206+0.00232978\ttest-auc:0.658575+0.0142772\n",
      "[450]\ttrain-auc:0.930445+0.00234703\ttest-auc:0.658384+0.0141603\n",
      "[451]\ttrain-auc:0.930598+0.00230055\ttest-auc:0.658423+0.0141473\n",
      "[452]\ttrain-auc:0.930736+0.00224155\ttest-auc:0.658653+0.0143042\n",
      "[453]\ttrain-auc:0.930973+0.00221135\ttest-auc:0.658536+0.0141882\n",
      "[454]\ttrain-auc:0.931192+0.00211459\ttest-auc:0.65838+0.0140915\n",
      "[455]\ttrain-auc:0.931325+0.00209878\ttest-auc:0.658272+0.0141923\n",
      "[456]\ttrain-auc:0.931572+0.00207463\ttest-auc:0.658258+0.0143275\n",
      "[457]\ttrain-auc:0.931794+0.0019849\ttest-auc:0.658145+0.0140809\n",
      "[458]\ttrain-auc:0.931941+0.00201277\ttest-auc:0.65822+0.01384\n",
      "[459]\ttrain-auc:0.932169+0.00197646\ttest-auc:0.658483+0.0138566\n",
      "[460]\ttrain-auc:0.932323+0.00205879\ttest-auc:0.658487+0.0137743\n",
      "[461]\ttrain-auc:0.932503+0.00205776\ttest-auc:0.658509+0.0139176\n",
      "[462]\ttrain-auc:0.932667+0.00205488\ttest-auc:0.658624+0.0138538\n",
      "[463]\ttrain-auc:0.932802+0.00205684\ttest-auc:0.658609+0.0134891\n",
      "[464]\ttrain-auc:0.932906+0.00203666\ttest-auc:0.658765+0.0134432\n",
      "[465]\ttrain-auc:0.933044+0.00195732\ttest-auc:0.658519+0.0134306\n",
      "[466]\ttrain-auc:0.933157+0.00195115\ttest-auc:0.658488+0.0132459\n",
      "[467]\ttrain-auc:0.933267+0.00193077\ttest-auc:0.658328+0.0133365\n",
      "[468]\ttrain-auc:0.933432+0.0019297\ttest-auc:0.658369+0.0133472\n",
      "[469]\ttrain-auc:0.933616+0.001975\ttest-auc:0.658291+0.0131681\n",
      "[470]\ttrain-auc:0.933842+0.00196213\ttest-auc:0.658367+0.0131381\n",
      "[471]\ttrain-auc:0.933984+0.00194661\ttest-auc:0.658323+0.0131695\n",
      "[472]\ttrain-auc:0.934103+0.0018894\ttest-auc:0.658062+0.013035\n",
      "[473]\ttrain-auc:0.934302+0.00184634\ttest-auc:0.658195+0.0132645\n",
      "[474]\ttrain-auc:0.934479+0.00180269\ttest-auc:0.658003+0.0134021\n"
     ]
    }
   ],
   "source": [
    "print ('\\nInitializing cross-validation...')\n",
    "cvresult = xgb.cv(\n",
    "    xgb_param,\n",
    "    xgtrain,\n",
    "    num_boost_round=clf.get_params()['n_estimators'],\n",
    "    nfold=cv_folds,\n",
    "    metrics='auc',\n",
    "    early_stopping_rounds=early_stopping_rounds,\n",
    "    verbose_eval=1)"
   ]
  },
  {
   "cell_type": "markdown",
   "metadata": {},
   "source": [
    "## Retrieve parameters"
   ]
  },
  {
   "cell_type": "code",
   "execution_count": 81,
   "metadata": {},
   "outputs": [
    {
     "data": {
      "text/plain": [
       "XGBClassifier(base_score=0.5, booster='gbtree', colsample_bylevel=1,\n",
       "       colsample_bytree=0.7, gamma=0, learning_rate=0.01, max_delta_step=0,\n",
       "       max_depth=5, min_child_weight=1, missing=None, n_estimators=426,\n",
       "       n_jobs=1, nthread=4, objective='binary:logistic', random_state=0,\n",
       "       reg_alpha=0, reg_lambda=1, scale_pos_weight=1, seed=99, silent=True,\n",
       "       subsample=0.7)"
      ]
     },
     "execution_count": 81,
     "metadata": {},
     "output_type": "execute_result"
    }
   ],
   "source": [
    "clf.set_params(n_estimators=cvresult.shape[0])"
   ]
  },
  {
   "cell_type": "markdown",
   "metadata": {},
   "source": [
    "## Fit to training data"
   ]
  },
  {
   "cell_type": "code",
   "execution_count": 82,
   "metadata": {},
   "outputs": [
    {
     "name": "stdout",
     "output_type": "stream",
     "text": [
      "\n",
      "Fit algorithm on train data...\n"
     ]
    },
    {
     "data": {
      "text/plain": [
       "XGBClassifier(base_score=0.5, booster='gbtree', colsample_bylevel=1,\n",
       "       colsample_bytree=0.7, gamma=0, learning_rate=0.01, max_delta_step=0,\n",
       "       max_depth=5, min_child_weight=1, missing=None, n_estimators=426,\n",
       "       n_jobs=1, nthread=4, objective='binary:logistic', random_state=0,\n",
       "       reg_alpha=0, reg_lambda=1, scale_pos_weight=1, seed=99, silent=True,\n",
       "       subsample=0.7)"
      ]
     },
     "execution_count": 82,
     "metadata": {},
     "output_type": "execute_result"
    }
   ],
   "source": [
    "print('\\nFit algorithm on train data...')\n",
    "clf.fit(X_train.as_matrix(), Y_train.as_matrix(), eval_metric='auc')"
   ]
  },
  {
   "cell_type": "markdown",
   "metadata": {},
   "source": [
    "## Predict training set"
   ]
  },
  {
   "cell_type": "code",
   "execution_count": 83,
   "metadata": {},
   "outputs": [
    {
     "name": "stdout",
     "output_type": "stream",
     "text": [
      "\n",
      "Predicting on training set...\n"
     ]
    }
   ],
   "source": [
    "print('\\nPredicting on training set...')\n",
    "dtrain_predictions = clf.predict(X_train.as_matrix())\n",
    "dtrain_predprob = clf.predict_proba(X_train.as_matrix())[:,1]"
   ]
  },
  {
   "cell_type": "markdown",
   "metadata": {},
   "source": [
    "## Print model report"
   ]
  },
  {
   "cell_type": "code",
   "execution_count": 84,
   "metadata": {
    "scrolled": true
   },
   "outputs": [
    {
     "name": "stdout",
     "output_type": "stream",
     "text": [
      "Model Report\n",
      "Accuracy : 0.8267\n",
      "AUC Score (Train): 0.913005\n",
      "IP Score  (Train): 82.600997\n",
      "Training time: 0.12 minutes\n"
     ]
    }
   ],
   "source": [
    "def ip(y_target, y_pred):\n",
    "    return 100*(2*(metrics.roc_auc_score(y_target, y_pred))-1)\n",
    "print('Model Report')\n",
    "print('Accuracy : %.4g' % metrics.accuracy_score(Y_train.values, dtrain_predictions))\n",
    "print('AUC Score (Train): %f' % metrics.roc_auc_score(Y_train, dtrain_predprob))\n",
    "print('IP Score  (Train): %f' % ip(Y_train, dtrain_predprob))\n",
    "print('Training time: {} minutes'.format(round((time.time() - start_time)/60, 2)))"
   ]
  },
  {
   "cell_type": "markdown",
   "metadata": {},
   "source": [
    "## Print train predictions "
   ]
  },
  {
   "cell_type": "code",
   "execution_count": 85,
   "metadata": {
    "scrolled": true
   },
   "outputs": [
    {
     "name": "stdout",
     "output_type": "stream",
     "text": [
      "\n",
      "Predicting on test set...\n"
     ]
    }
   ],
   "source": [
    "print('\\nPredicting on test set...')\n",
    "dtest_predictions = clf.predict(X_test.as_matrix())\n",
    "dtest_predprob = clf.predict_proba(X_test.as_matrix())[:,1]"
   ]
  },
  {
   "cell_type": "markdown",
   "metadata": {},
   "source": [
    "## Print test predictions"
   ]
  },
  {
   "cell_type": "code",
   "execution_count": 66,
   "metadata": {},
   "outputs": [
    {
     "name": "stdout",
     "output_type": "stream",
     "text": [
      "Model Report\n",
      "Accuracy : 0.7686\n",
      "AUC Score (Train): 0.740327\n"
     ]
    }
   ],
   "source": [
    "print('Model Report')\n",
    "print('Accuracy : %.4g' % metrics.accuracy_score(Y_test.values, dtest_predictions))\n",
    "print('AUC Score (Train): %f' % metrics.roc_auc_score(Y_test, dtest_predprob))"
   ]
  },
  {
   "cell_type": "markdown",
   "metadata": {},
   "source": [
    "## Plot importances"
   ]
  },
  {
   "cell_type": "code",
   "execution_count": 67,
   "metadata": {},
   "outputs": [
    {
     "name": "stdout",
     "output_type": "stream",
     "text": [
      "\n",
      "Importances...\n"
     ]
    },
    {
     "ename": "NameError",
     "evalue": "name 'features' is not defined",
     "output_type": "error",
     "traceback": [
      "\u001b[1;31m---------------------------------------------------------------------------\u001b[0m",
      "\u001b[1;31mNameError\u001b[0m                                 Traceback (most recent call last)",
      "\u001b[1;32m<ipython-input-67-a0e3cccec2a5>\u001b[0m in \u001b[0;36m<module>\u001b[1;34m()\u001b[0m\n\u001b[0;32m      1\u001b[0m \u001b[0mprint\u001b[0m\u001b[1;33m(\u001b[0m\u001b[1;34m'\\nImportances...'\u001b[0m\u001b[1;33m)\u001b[0m\u001b[1;33m\u001b[0m\u001b[0m\n\u001b[1;32m----> 2\u001b[1;33m \u001b[0mfeatures_df\u001b[0m \u001b[1;33m=\u001b[0m \u001b[0mpd\u001b[0m\u001b[1;33m.\u001b[0m\u001b[0mDataFrame\u001b[0m\u001b[1;33m(\u001b[0m\u001b[1;33m{\u001b[0m\u001b[1;34m'feature'\u001b[0m\u001b[1;33m:\u001b[0m \u001b[0mpd\u001b[0m\u001b[1;33m.\u001b[0m\u001b[0mSeries\u001b[0m\u001b[1;33m(\u001b[0m\u001b[0mfeatures\u001b[0m\u001b[1;33m)\u001b[0m\u001b[1;33m,\u001b[0m \u001b[1;34m'importance'\u001b[0m\u001b[1;33m:\u001b[0m \u001b[0mclf\u001b[0m\u001b[1;33m.\u001b[0m\u001b[0mfeature_importances_\u001b[0m\u001b[1;33m}\u001b[0m\u001b[1;33m)\u001b[0m\u001b[1;33m\u001b[0m\u001b[0m\n\u001b[0m        \u001b[1;36mglobal\u001b[0m \u001b[0;36mfeatures_df\u001b[0m \u001b[1;34m= \u001b[1;36mundefined\u001b[0m\u001b[0m\u001b[1;34m\n        \u001b[0m\u001b[1;36mglobal\u001b[0m \u001b[0;36mpd.DataFrame\u001b[0m \u001b[1;34m= <class 'pandas.core.frame.DataFrame'>\u001b[0m\u001b[1;34m\n        \u001b[0m\u001b[1;36mglobal\u001b[0m \u001b[0;36mpd.Series\u001b[0m \u001b[1;34m= <class 'pandas.core.series.Series'>\u001b[0m\u001b[1;34m\n        \u001b[0m\u001b[1;36mglobal\u001b[0m \u001b[0;36mfeatures\u001b[0m \u001b[1;34m= \u001b[1;36mundefined\u001b[0m\u001b[0m\u001b[1;34m\n        \u001b[0m\u001b[1;36mglobal\u001b[0m \u001b[0;36mclf.feature_importances_\u001b[0m \u001b[1;34m= array([0.09689855, 0.11950237, 0.00140179, 0.02978798, 0.01717189,\n       0.03837393, 0.07972665, 0.02277904, 0.0194498 , 0.01612055,\n       0.09216751, 0.10898896, 0.0411775 , 0.07850008, 0.02961276,\n       0.03574558, 0.03925004, 0.08761171, 0.00841072, 0.01506921,\n       0.02225337], dtype=float32)\u001b[0m\n\u001b[0;32m      3\u001b[0m \u001b[0mfeatures_df\u001b[0m \u001b[1;33m=\u001b[0m \u001b[0mfeatures_df\u001b[0m\u001b[1;33m.\u001b[0m\u001b[0msort_values\u001b[0m\u001b[1;33m(\u001b[0m\u001b[1;34m'importance'\u001b[0m\u001b[1;33m,\u001b[0m \u001b[0mascending\u001b[0m\u001b[1;33m=\u001b[0m\u001b[1;32mFalse\u001b[0m\u001b[1;33m)\u001b[0m\u001b[1;33m\u001b[0m\u001b[0m\n\u001b[0;32m      4\u001b[0m \u001b[0mfeatures_df\u001b[0m \u001b[1;33m=\u001b[0m \u001b[0mfeatures_df\u001b[0m\u001b[1;33m.\u001b[0m\u001b[0mhead\u001b[0m\u001b[1;33m(\u001b[0m\u001b[1;36m80\u001b[0m\u001b[1;33m)\u001b[0m \u001b[1;31m# limit the number of features to be shown in the bar plot\u001b[0m\u001b[1;33m\u001b[0m\u001b[0m\n",
      "\u001b[1;31mNameError\u001b[0m: name 'features' is not defined"
     ]
    }
   ],
   "source": []
  },
  {
   "cell_type": "code",
   "execution_count": null,
   "metadata": {},
   "outputs": [],
   "source": []
  }
 ],
 "metadata": {
  "kernelspec": {
   "display_name": "Python 3",
   "language": "python",
   "name": "python3"
  },
  "language_info": {
   "codemirror_mode": {
    "name": "ipython",
    "version": 3
   },
   "file_extension": ".py",
   "mimetype": "text/x-python",
   "name": "python",
   "nbconvert_exporter": "python",
   "pygments_lexer": "ipython3",
   "version": "3.6.2"
  }
 },
 "nbformat": 4,
 "nbformat_minor": 2
}
